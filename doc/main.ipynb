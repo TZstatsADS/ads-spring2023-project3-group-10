{
 "cells": [
  {
   "cell_type": "code",
   "execution_count": 150,
   "id": "459644a9",
   "metadata": {},
   "outputs": [],
   "source": [
    "# Import required packages\n",
    "import tensorflow as tf\n",
    "import numpy as np\n",
    "import cv2\n",
    "import matplotlib.pyplot as plt\n",
    "import pandas as pd\n",
    "\n",
    "from sklearn.metrics import classification_report\n",
    "from sklearn.linear_model import LogisticRegression\n",
    "from sklearn.model_selection import train_test_split\n",
    "import time\n",
    "\n",
    "from sklearn.metrics import classification_report\n",
    "from sklearn.linear_model import LogisticRegression"
   ]
  },
  {
   "cell_type": "code",
   "execution_count": 2,
   "id": "15adf6b4",
   "metadata": {},
   "outputs": [],
   "source": [
    "from tensorflow.keras import datasets, layers, models\n",
    "import matplotlib.pyplot as plt"
   ]
  },
  {
   "cell_type": "markdown",
   "id": "62958f60",
   "metadata": {},
   "source": [
    "## 1. Load the datasets"
   ]
  },
  {
   "cell_type": "markdown",
   "id": "2c973d84",
   "metadata": {},
   "source": [
    "For the project, we provide a training set with 50000 images in the directory `../data/images/` with:\n",
    "- noisy labels for all images provided in `../data/noisy_label.csv`;\n",
    "- clean labels for the first 10000 images provided in `../data/clean_labels.csv`. "
   ]
  },
  {
   "cell_type": "code",
   "execution_count": 4,
   "id": "9b08c80a",
   "metadata": {},
   "outputs": [],
   "source": [
    "# [DO NOT MODIFY THIS CELL]\n",
    "\n",
    "# load the images\n",
    "n_img = 50000\n",
    "n_noisy = 40000\n",
    "n_clean_noisy = n_img - n_noisy\n",
    "imgs = np.empty((n_img,32,32,3))\n",
    "for i in range(n_img):\n",
    "    img_fn = f'../data/images/{i+1:05d}.png'\n",
    "    imgs[i,:,:,:]=cv2.cvtColor(cv2.imread(img_fn),cv2.COLOR_BGR2RGB)\n",
    "\n",
    "# load the labels\n",
    "clean_labels = np.genfromtxt('../data/clean_labels.csv', delimiter=',', dtype=\"int8\")\n",
    "noisy_labels = np.genfromtxt('../data/noisy_labels.csv', delimiter=',', dtype=\"int8\")"
   ]
  },
  {
   "cell_type": "markdown",
   "id": "a0b1b303",
   "metadata": {},
   "source": [
    "For illustration, we present a small subset (of size 8) of the images with their clean and noisy labels in `clean_noisy_trainset`. You are encouraged to explore more characteristics of the label noises on the whole dataset. "
   ]
  },
  {
   "cell_type": "code",
   "execution_count": 12,
   "id": "7505c8f9",
   "metadata": {
    "scrolled": false
   },
   "outputs": [
    {
     "name": "stdout",
     "output_type": "stream",
     "text": [
      "Clean labels:\n",
      " frog truck truck  deer   car   car  bird horse\n",
      "Noisy labels:\n",
      "  cat   dog truck  frog   dog  ship  bird  deer\n"
     ]
    }
   ],
   "source": [
    "# [DO NOT MODIFY THIS CELL]\n",
    "\n",
    "fig = plt.figure()\n",
    "\n",
    "ax1 = fig.add_subplot(2,4,1)\n",
    "ax1.imshow(imgs[0]/255)\n",
    "ax2 = fig.add_subplot(2,4,2)\n",
    "ax2.imshow(imgs[1]/255)\n",
    "ax3 = fig.add_subplot(2,4,3)\n",
    "ax3.imshow(imgs[2]/255)\n",
    "ax4 = fig.add_subplot(2,4,4)\n",
    "ax4.imshow(imgs[3]/255)\n",
    "ax1 = fig.add_subplot(2,4,5)\n",
    "ax1.imshow(imgs[4]/255)\n",
    "ax2 = fig.add_subplot(2,4,6)\n",
    "ax2.imshow(imgs[5]/255)\n",
    "ax3 = fig.add_subplot(2,4,7)\n",
    "ax3.imshow(imgs[6]/255)\n",
    "ax4 = fig.add_subplot(2,4,8)\n",
    "ax4.imshow(imgs[7]/255)\n",
    "\n",
    "# The class-label correspondence\n",
    "classes = ('plane', 'car', 'bird', 'cat',\n",
    "           'deer', 'dog', 'frog', 'horse', 'ship', 'truck')\n",
    "\n",
    "# print clean labels\n",
    "print('Clean labels:')\n",
    "print(' '.join('%5s' % classes[clean_labels[j]] for j in range(8)))\n",
    "# print noisy labels\n",
    "print('Noisy labels:')\n",
    "print(' '.join('%5s' % classes[noisy_labels[j]] for j in range(8)))\n"
   ]
  },
  {
   "cell_type": "markdown",
   "id": "2422cb69",
   "metadata": {},
   "source": [
    "## 2. The predictive model\n",
    "\n",
    "We consider a baseline model directly on the noisy dataset without any label corrections. RGB histogram features are extracted to fit a logistic regression model."
   ]
  },
  {
   "cell_type": "markdown",
   "id": "b247f66e",
   "metadata": {},
   "source": [
    "### 2.1. Baseline Model"
   ]
  },
  {
   "cell_type": "code",
   "execution_count": 169,
   "id": "accf1bc7",
   "metadata": {},
   "outputs": [],
   "source": [
    "start_time = time.time()"
   ]
  },
  {
   "cell_type": "code",
   "execution_count": 170,
   "id": "5f184271",
   "metadata": {},
   "outputs": [],
   "source": [
    "# [DO NOT MODIFY THIS CELL]\n",
    "# RGB histogram dataset construction\n",
    "no_bins = 6\n",
    "bins = np.linspace(0,255,no_bins) # the range of the rgb histogram\n",
    "target_vec = np.empty(n_img)\n",
    "feature_mtx = np.empty((n_img,3*(len(bins)-1)))\n",
    "i = 0\n",
    "for i in range(n_img):\n",
    "    # The target vector consists of noisy labels\n",
    "    target_vec[i] = noisy_labels[i]\n",
    "    \n",
    "    # Use the numbers of pixels in each bin for all three channels as the features\n",
    "    feature1 = np.histogram(imgs[i][:,:,0],bins=bins)[0] \n",
    "    feature2 = np.histogram(imgs[i][:,:,1],bins=bins)[0]\n",
    "    feature3 = np.histogram(imgs[i][:,:,2],bins=bins)[0]\n",
    "    \n",
    "    # Concatenate three features\n",
    "    feature_mtx[i,] = np.concatenate((feature1, feature2, feature3), axis=None)\n",
    "    i += 1"
   ]
  },
  {
   "cell_type": "code",
   "execution_count": 171,
   "id": "138177a3",
   "metadata": {},
   "outputs": [],
   "source": [
    "# [DO NOT MODIFY THIS CELL]\n",
    "# Train a logistic regression model \n",
    "clf = LogisticRegression(random_state=0).fit(feature_mtx, target_vec)"
   ]
  },
  {
   "cell_type": "code",
   "execution_count": 172,
   "id": "8b87b61f",
   "metadata": {},
   "outputs": [
    {
     "name": "stdout",
     "output_type": "stream",
     "text": [
      "Baseline model training time: 12.347363948822021 seconds\n"
     ]
    }
   ],
   "source": [
    "end_time = time.time()\n",
    "model_0_training_time = end_time - start_time\n",
    "print(\"Baseline model training time: {} seconds\".format(model_0_training_time))"
   ]
  },
  {
   "cell_type": "markdown",
   "id": "9090731e",
   "metadata": {},
   "source": [
    "For the convenience of evaluation, we write the following function `predictive_model` that does the label prediction. **For your predictive model, feel free to modify the function, but make sure the function takes an RGB image of numpy.array format with dimension $32\\times32\\times3$  as input, and returns one single label as output.**"
   ]
  },
  {
   "cell_type": "code",
   "execution_count": 15,
   "id": "c5225fe5",
   "metadata": {},
   "outputs": [],
   "source": [
    "# [DO NOT MODIFY THIS CELL]\n",
    "def baseline_model(image):\n",
    "    '''\n",
    "    This is the baseline predictive model that takes in the image and returns a label prediction\n",
    "    '''\n",
    "    feature1 = np.histogram(image[:,:,0],bins=bins)[0]\n",
    "    feature2 = np.histogram(image[:,:,1],bins=bins)[0]\n",
    "    feature3 = np.histogram(image[:,:,2],bins=bins)[0]\n",
    "    feature = np.concatenate((feature1, feature2, feature3), axis=None).reshape(1,-1)\n",
    "    return clf.predict(feature)"
   ]
  },
  {
   "cell_type": "markdown",
   "id": "e51f2925",
   "metadata": {},
   "source": [
    "### 2.2. Model I"
   ]
  },
  {
   "cell_type": "code",
   "execution_count": 39,
   "id": "56a84d27",
   "metadata": {},
   "outputs": [],
   "source": [
    "class Namespace:\n",
    "    def __init__(self, **kwargs):\n",
    "        self.__dict__.update(kwargs)"
   ]
  },
  {
   "cell_type": "code",
   "execution_count": 158,
   "id": "93624bc6",
   "metadata": {},
   "outputs": [],
   "source": [
    "config = Namespace(image_height=32, image_width=32, num_channels=3, \n",
    "                   num_classes=10, n_layers=2, n_epochs=10)"
   ]
  },
  {
   "cell_type": "code",
   "execution_count": 159,
   "id": "c58a1f26",
   "metadata": {},
   "outputs": [],
   "source": [
    "# train: 40000 labels, val: 5000 labels, test: 5000 labels\n",
    "x_train= imgs[10000:]/255\n",
    "x_val= imgs[:5000]/255\n",
    "x_test= imgs[5000:10000]/255\n",
    "\n",
    "y_train= noisy_labels[10000:]\n",
    "y_val= noisy_labels[:5000]\n",
    "y_test = noisy_labels[5000:10000]"
   ]
  },
  {
   "cell_type": "code",
   "execution_count": 160,
   "id": "6b9be78b",
   "metadata": {},
   "outputs": [],
   "source": [
    "class ImageClassifier:\n",
    "    def __init__(self, image_height, image_width, num_channels, num_classes, n_layers):\n",
    "        self.image_height = image_height\n",
    "        self.image_width = image_width\n",
    "        self.num_channels = num_channels\n",
    "        self.num_classes = num_classes\n",
    "        self.n_layers = n_layers\n",
    "        \n",
    "        self.model = self.build_model()\n",
    "        \n",
    "    def build_model(self):\n",
    "        model = models.Sequential()\n",
    "        \n",
    "        for n in range(self.n_layers):\n",
    "            model.add(layers.Conv2D(32, (3, 3), activation='relu', input_shape=(self.image_height, self.image_width, self.num_channels)))\n",
    "            model.add(layers.MaxPooling2D((2, 2)))\n",
    "            model.add(layers.Dropout(0.2))\n",
    "            \n",
    "        model.add(layers.Flatten())\n",
    "        model.add(layers.Dense(64, activation='relu'))\n",
    "        model.add(layers.Dropout(0.5))\n",
    "        model.add(layers.Dense(self.num_classes,activation=\"softmax\"))\n",
    "        \n",
    "        return model"
   ]
  },
  {
   "cell_type": "code",
   "execution_count": 161,
   "id": "fa6515b9",
   "metadata": {},
   "outputs": [],
   "source": [
    "model_1 = ImageClassifier(config.image_height, config.image_width, \n",
    "                        config.num_channels, config.num_classes, config.n_layers).model"
   ]
  },
  {
   "cell_type": "code",
   "execution_count": 162,
   "id": "e392dcee",
   "metadata": {},
   "outputs": [
    {
     "name": "stdout",
     "output_type": "stream",
     "text": [
      "Model: \"sequential_14\"\n",
      "_________________________________________________________________\n",
      "Layer (type)                 Output Shape              Param #   \n",
      "=================================================================\n",
      "conv2d_32 (Conv2D)           (None, 30, 30, 32)        896       \n",
      "_________________________________________________________________\n",
      "max_pooling2d_26 (MaxPooling (None, 15, 15, 32)        0         \n",
      "_________________________________________________________________\n",
      "dropout_38 (Dropout)         (None, 15, 15, 32)        0         \n",
      "_________________________________________________________________\n",
      "conv2d_33 (Conv2D)           (None, 13, 13, 32)        9248      \n",
      "_________________________________________________________________\n",
      "max_pooling2d_27 (MaxPooling (None, 6, 6, 32)          0         \n",
      "_________________________________________________________________\n",
      "dropout_39 (Dropout)         (None, 6, 6, 32)          0         \n",
      "_________________________________________________________________\n",
      "flatten_12 (Flatten)         (None, 1152)              0         \n",
      "_________________________________________________________________\n",
      "dense_27 (Dense)             (None, 64)                73792     \n",
      "_________________________________________________________________\n",
      "dropout_40 (Dropout)         (None, 64)                0         \n",
      "_________________________________________________________________\n",
      "dense_28 (Dense)             (None, 10)                650       \n",
      "=================================================================\n",
      "Total params: 84,586\n",
      "Trainable params: 84,586\n",
      "Non-trainable params: 0\n",
      "_________________________________________________________________\n"
     ]
    }
   ],
   "source": [
    "model_1.summary()"
   ]
  },
  {
   "cell_type": "code",
   "execution_count": 163,
   "id": "58ff232b",
   "metadata": {},
   "outputs": [
    {
     "name": "stdout",
     "output_type": "stream",
     "text": [
      "Epoch 1/10\n",
      "1250/1250 [==============================] - 28s 23ms/step - loss: 2.2947 - accuracy: 0.1238 - val_loss: 2.2733 - val_accuracy: 0.1590\n",
      "Epoch 2/10\n",
      "1250/1250 [==============================] - 25s 20ms/step - loss: 2.2747 - accuracy: 0.1562 - val_loss: 2.2515 - val_accuracy: 0.1894\n",
      "Epoch 3/10\n",
      "1250/1250 [==============================] - 23s 18ms/step - loss: 2.2648 - accuracy: 0.1719 - val_loss: 2.2434 - val_accuracy: 0.1994\n",
      "Epoch 4/10\n",
      "1250/1250 [==============================] - 23s 18ms/step - loss: 2.2572 - accuracy: 0.1828 - val_loss: 2.2373 - val_accuracy: 0.2096\n",
      "Epoch 5/10\n",
      "1250/1250 [==============================] - 22s 18ms/step - loss: 2.2519 - accuracy: 0.1870 - val_loss: 2.2300 - val_accuracy: 0.2196\n",
      "Epoch 6/10\n",
      "1250/1250 [==============================] - 23s 18ms/step - loss: 2.2473 - accuracy: 0.1949 - val_loss: 2.2298 - val_accuracy: 0.2148\n",
      "Epoch 7/10\n",
      "1250/1250 [==============================] - 24s 19ms/step - loss: 2.2432 - accuracy: 0.2002 - val_loss: 2.2302 - val_accuracy: 0.2208\n",
      "Epoch 8/10\n",
      "1250/1250 [==============================] - 23s 19ms/step - loss: 2.2399 - accuracy: 0.2021 - val_loss: 2.2172 - val_accuracy: 0.2300\n",
      "Epoch 9/10\n",
      "1250/1250 [==============================] - 21s 17ms/step - loss: 2.2365 - accuracy: 0.2077 - val_loss: 2.2248 - val_accuracy: 0.2224\n",
      "Epoch 10/10\n",
      "1250/1250 [==============================] - 21s 17ms/step - loss: 2.2348 - accuracy: 0.2086 - val_loss: 2.2150 - val_accuracy: 0.2418\n",
      "Model 1 training time: 236.6482651233673 seconds\n"
     ]
    }
   ],
   "source": [
    "model_1.compile(optimizer='adam',\n",
    "              loss=tf.keras.losses.SparseCategoricalCrossentropy(from_logits=True),\n",
    "              metrics=['accuracy'])\n",
    "\n",
    "start_time = time.time()\n",
    "history = model_1.fit(x_train, y_train, epochs=config.n_epochs, \n",
    "                    validation_data=(x_val, y_val))\n",
    "end_time = time.time()\n",
    "\n",
    "model_1_training_time = end_time - start_time\n",
    "print(\"Model 1 training time: {} seconds\".format(model_1_training_time)"
   ]
  },
  {
   "cell_type": "code",
   "execution_count": 177,
   "id": "86c1da0b",
   "metadata": {},
   "outputs": [],
   "source": [
    "def model_I(image):\n",
    "    '''\n",
    "    This function should takes in the image of dimension 32*32*3 as input and returns a label prediction\n",
    "    '''\n",
    "    class_prob = model_1.predict(np.array([image])/225)\n",
    "    return np.argmax(class_prob, axis = -1)"
   ]
  },
  {
   "cell_type": "code",
   "execution_count": 165,
   "id": "f271eb5b",
   "metadata": {},
   "outputs": [
    {
     "data": {
      "image/png": "[encoded data removed]",
      "text/plain": [
       "<Figure size 640x480 with 1 Axes>"
      ]
     },
     "metadata": {},
     "output_type": "display_data"
    },
    {
     "name": "stdout",
     "output_type": "stream",
     "text": [
      "157/157 - 1s - loss: 2.2220 - accuracy: 0.2226\n"
     ]
    }
   ],
   "source": [
    "plt.plot(history.history['accuracy'], label='train accuracy')\n",
    "plt.plot(history.history['val_accuracy'], label = 'val accuracy')\n",
    "plt.xlabel('Epoch')\n",
    "plt.ylabel('Accuracy')\n",
    "plt.title(\"Model 1 prediction accuracy\")\n",
    "plt.legend()\n",
    "plt.show()\n",
    "\n",
    "test_loss, test_acc = model_1.evaluate(x_test, y_test, verbose=2)"
   ]
  },
  {
   "cell_type": "markdown",
   "id": "562997cf",
   "metadata": {},
   "source": [
    "### 2.3. Model II"
   ]
  },
  {
   "cell_type": "code",
   "execution_count": 151,
   "id": "b4e11038",
   "metadata": {},
   "outputs": [],
   "source": [
    "edited_labels = pd.read_csv('../data/edited_labels.csv', delimiter=',', dtype=\"int8\").to_numpy().flatten()"
   ]
  },
  {
   "cell_type": "code",
   "execution_count": 152,
   "id": "ea1769e8",
   "metadata": {},
   "outputs": [],
   "source": [
    "# train: 40000 labels, val: 5000 labels, test: 5000 labels\n",
    "x_train= imgs[10000:]/255\n",
    "x_val= imgs[:5000]/255\n",
    "x_test= imgs[5000:10000]/255\n",
    "\n",
    "y_train= edited_labels[10000:]\n",
    "y_val= edited_labels[:5000]\n",
    "y_test = edited_labels[5000:10000]"
   ]
  },
  {
   "cell_type": "code",
   "execution_count": 153,
   "id": "1eeaf844",
   "metadata": {},
   "outputs": [],
   "source": [
    "model_2 = ImageClassifier(config.image_height, config.image_width, \n",
    "                        config.num_channels, config.num_classes, config.n_layers).model"
   ]
  },
  {
   "cell_type": "code",
   "execution_count": 154,
   "id": "8c9f1a18",
   "metadata": {},
   "outputs": [
    {
     "name": "stdout",
     "output_type": "stream",
     "text": [
      "Epoch 1/10\n",
      "1250/1250 [==============================] - 20s 16ms/step - loss: 2.1175 - accuracy: 0.3386 - val_loss: 2.1044 - val_accuracy: 0.3500\n",
      "Epoch 2/10\n",
      "1250/1250 [==============================] - 21s 17ms/step - loss: 2.0084 - accuracy: 0.4527 - val_loss: 2.0532 - val_accuracy: 0.4020\n",
      "Epoch 3/10\n",
      "1250/1250 [==============================] - 23s 18ms/step - loss: 1.9754 - accuracy: 0.4847 - val_loss: 2.0463 - val_accuracy: 0.4088\n",
      "Epoch 4/10\n",
      "1250/1250 [==============================] - 22s 18ms/step - loss: 1.9539 - accuracy: 0.5066 - val_loss: 2.0361 - val_accuracy: 0.4208\n",
      "Epoch 5/10\n",
      "1250/1250 [==============================] - 22s 18ms/step - loss: 1.9456 - accuracy: 0.5144 - val_loss: 2.0131 - val_accuracy: 0.4422\n",
      "Epoch 6/10\n",
      "1250/1250 [==============================] - 23s 18ms/step - loss: 1.9346 - accuracy: 0.5246 - val_loss: 2.0155 - val_accuracy: 0.4420\n",
      "Epoch 7/10\n",
      "1250/1250 [==============================] - 22s 17ms/step - loss: 1.9304 - accuracy: 0.5284 - val_loss: 2.0159 - val_accuracy: 0.4410\n",
      "Epoch 8/10\n",
      "1250/1250 [==============================] - 23s 18ms/step - loss: 1.9120 - accuracy: 0.5478 - val_loss: 1.9763 - val_accuracy: 0.4782\n",
      "Epoch 9/10\n",
      "1250/1250 [==============================] - 22s 18ms/step - loss: 1.9029 - accuracy: 0.5559 - val_loss: 1.9616 - val_accuracy: 0.4964\n",
      "Epoch 10/10\n",
      "1250/1250 [==============================] - 22s 17ms/step - loss: 1.8910 - accuracy: 0.5683 - val_loss: 1.9473 - val_accuracy: 0.5086\n",
      "Model 2 training time:  222.84676504135132\n"
     ]
    }
   ],
   "source": [
    "model_2.compile(optimizer='adam',\n",
    "              loss=tf.keras.losses.SparseCategoricalCrossentropy(from_logits=True),\n",
    "              metrics=['accuracy'])\n",
    "\n",
    "start_time = time.time()\n",
    "history = model_2.fit(x_train, y_train, epochs=config.n_epochs, \n",
    "                    validation_data=(x_val, y_val))\n",
    "end_time = time.time()\n",
    "\n",
    "model_2_training_time = end_time - start_time\n",
    "print(\"Model 2 training time: {} seconds\".format(model_2_training_time))"
   ]
  },
  {
   "cell_type": "code",
   "execution_count": 155,
   "id": "5c1248ec",
   "metadata": {},
   "outputs": [
    {
     "data": {
      "image/png": "[encoded data removed]",
      "text/plain": [
       "<Figure size 640x480 with 1 Axes>"
      ]
     },
     "metadata": {},
     "output_type": "display_data"
    },
    {
     "name": "stdout",
     "output_type": "stream",
     "text": [
      "157/157 - 1s - loss: 2.0425 - accuracy: 0.4320\n"
     ]
    }
   ],
   "source": [
    "plt.plot(history.history['accuracy'], label='accuracy')\n",
    "plt.plot(history.history['val_accuracy'], label = 'val_accuracy')\n",
    "plt.xlabel('Epoch')\n",
    "plt.ylabel('Accuracy')\n",
    "plt.title(\"Model 2 prediction accuracy\")\n",
    "plt.legend()\n",
    "plt.show()\n",
    "\n",
    "test_loss, test_acc = model_2.evaluate(x_test, y_test, verbose=2)"
   ]
  },
  {
   "cell_type": "code",
   "execution_count": 156,
   "id": "efd01fb0",
   "metadata": {},
   "outputs": [],
   "source": [
    "def model_II(image):\n",
    "    '''\n",
    "    This function should takes in the image of dimension 32*32*3 as input and returns a label prediction\n",
    "    '''\n",
    "    class_prob = model_2.predict(np.array([image])/225)\n",
    "    return np.argmax(class_prob, axis = -1)"
   ]
  },
  {
   "cell_type": "markdown",
   "id": "417e41f6",
   "metadata": {},
   "source": [
    "## 3. Evaluation"
   ]
  },
  {
   "cell_type": "markdown",
   "id": "987920d2",
   "metadata": {},
   "source": [
    "For assessment, we will evaluate your final model on a hidden test dataset with clean labels by the `evaluation` function defined as follows. Although you will not have the access to the test set, the function would be useful for the model developments. For example, you can split the small training set, using one portion for weakly supervised learning and the other for validation purpose. "
   ]
  },
  {
   "cell_type": "code",
   "execution_count": 148,
   "id": "2f2e6760",
   "metadata": {},
   "outputs": [],
   "source": [
    "# [DO NOT MODIFY THIS CELL]\n",
    "def evaluation(model, test_labels, test_imgs):\n",
    "    y_true = test_labels\n",
    "    y_pred = []\n",
    "    for image in test_imgs:\n",
    "        y_pred.append(model(image))\n",
    "    print(classification_report(y_true, y_pred))"
   ]
  },
  {
   "cell_type": "code",
   "execution_count": 10,
   "id": "186e8255",
   "metadata": {},
   "outputs": [
    {
     "name": "stdout",
     "output_type": "stream",
     "text": [
      "              precision    recall  f1-score   support\n",
      "\n",
      "           0       0.33      0.46      0.38      1000\n",
      "           1       0.21      0.31      0.25      1000\n",
      "           2       0.20      0.04      0.07      1000\n",
      "           3       0.19      0.12      0.14      1000\n",
      "           4       0.24      0.48      0.32      1000\n",
      "           5       0.20      0.11      0.14      1000\n",
      "           6       0.24      0.34      0.28      1000\n",
      "           7       0.31      0.04      0.08      1000\n",
      "           8       0.27      0.43      0.33      1000\n",
      "           9       0.20      0.12      0.15      1000\n",
      "\n",
      "    accuracy                           0.24     10000\n",
      "   macro avg       0.24      0.24      0.21     10000\n",
      "weighted avg       0.24      0.24      0.21     10000\n",
      "\n"
     ]
    }
   ],
   "source": [
    "# [DO NOT MODIFY THIS CELL]\n",
    "# This is the code for evaluating the prediction performance on a testset\n",
    "# You will get an error if running this cell, as you do not have the testset\n",
    "# Nonetheless, you can create your own validation set to run the evlauation\n",
    "n_test = 10000\n",
    "test_labels = np.genfromtxt('../data/test_labels.csv', delimiter=',', dtype=\"int8\")\n",
    "test_imgs = np.empty((n_test,32,32,3))\n",
    "for i in range(n_test):\n",
    "    img_fn = f'../data/test_images/test{i+1:05d}.png'\n",
    "    test_imgs[i,:,:,:]=cv2.cvtColor(cv2.imread(img_fn),cv2.COLOR_BGR2RGB)\n",
    "evaluation(baseline_model, test_labels, test_imgs)"
   ]
  },
  {
   "cell_type": "markdown",
   "id": "15c9c041",
   "metadata": {},
   "source": [
    "The overall accuracy is $0.24$, which is better than random guess (which should have a accuracy around $0.10$). For the project, you should try to improve the performance by the following strategies:\n",
    "\n",
    "- Consider a better choice of model architectures, hyperparameters, or training scheme for the predictive model;\n",
    "- Use both `clean_noisy_trainset` and `noisy_trainset` for model training via **weakly supervised learning** methods. One possible solution is to train a \"label-correction\" model using the former, correct the labels in the latter, and train the final predictive model using the corrected dataset.\n",
    "- Apply techniques such as $k$-fold cross validation to avoid overfitting;\n",
    "- Any other reasonable strategies."
   ]
  },
  {
   "cell_type": "code",
   "execution_count": 157,
   "id": "c0153019",
   "metadata": {},
   "outputs": [
    {
     "name": "stdout",
     "output_type": "stream",
     "text": [
      "              precision    recall  f1-score   support\n",
      "\n",
      "           0       0.32      0.43      0.37      1005\n",
      "           1       0.18      0.29      0.22       974\n",
      "           2       0.22      0.04      0.07      1032\n",
      "           3       0.19      0.12      0.14      1016\n",
      "           4       0.24      0.48      0.32       999\n",
      "           5       0.22      0.13      0.16       937\n",
      "           6       0.26      0.35      0.30      1030\n",
      "           7       0.29      0.04      0.07      1001\n",
      "           8       0.28      0.43      0.34      1025\n",
      "           9       0.19      0.11      0.14       981\n",
      "\n",
      "    accuracy                           0.24     10000\n",
      "   macro avg       0.24      0.24      0.21     10000\n",
      "weighted avg       0.24      0.24      0.21     10000\n",
      "\n",
      "Baseline model evaluation time: 3.4444079399108887 seconds\n"
     ]
    }
   ],
   "source": [
    "test_imgs = imgs[0:10000]\n",
    "test_labels = clean_labels\n",
    "\n",
    "start_time = time.time()\n",
    "evaluation(baseline_model, test_labels, test_imgs)\n",
    "end_time = time.time()\n",
    "\n",
    "model_0_evaluation_time = end_time - start_time\n",
    "print(\"Baseline model evaluation time: {} seconds\".format(model_0_evaluation_time))"
   ]
  },
  {
   "cell_type": "code",
   "execution_count": 182,
   "id": "17011afe",
   "metadata": {},
   "outputs": [
    {
     "name": "stdout",
     "output_type": "stream",
     "text": [
      "              precision    recall  f1-score   support\n",
      "\n",
      "           0       0.51      0.48      0.49      1005\n",
      "           1       0.62      0.66      0.64       974\n",
      "           2       0.37      0.25      0.30      1032\n",
      "           3       0.38      0.32      0.35      1016\n",
      "           4       0.38      0.48      0.42       999\n",
      "           5       0.38      0.53      0.44       937\n",
      "           6       0.61      0.45      0.52      1030\n",
      "           7       0.62      0.56      0.59      1001\n",
      "           8       0.53      0.68      0.60      1025\n",
      "           9       0.58      0.54      0.56       981\n",
      "\n",
      "    accuracy                           0.49     10000\n",
      "   macro avg       0.50      0.50      0.49     10000\n",
      "weighted avg       0.50      0.49      0.49     10000\n",
      "\n",
      "Model 1 evaluation time: 309.53437399864197 seconds\n"
     ]
    }
   ],
   "source": [
    "test_imgs = imgs[0:10000]\n",
    "test_labels = clean_labels\n",
    "\n",
    "start_time = time.time()\n",
    "evaluation(model_I, test_labels, test_imgs)\n",
    "end_time = time.time()\n",
    "\n",
    "model_1_evaluation_time = end_time - start_time\n",
    "print(\"Model 1 evaluation time: {} seconds\".format(model_1_evaluation_time))"
   ]
  },
  {
   "cell_type": "code",
   "execution_count": 167,
   "id": "b39ee758",
   "metadata": {},
   "outputs": [
    {
     "name": "stdout",
     "output_type": "stream",
     "text": [
      "              precision    recall  f1-score   support\n",
      "\n",
      "           0       0.50      0.60      0.55      1005\n",
      "           1       0.56      0.74      0.64       974\n",
      "           2       0.40      0.15      0.22      1032\n",
      "           3       0.00      0.00      0.00      1016\n",
      "           4       0.44      0.49      0.46       999\n",
      "           5       0.34      0.70      0.46       937\n",
      "           6       0.60      0.60      0.60      1030\n",
      "           7       0.62      0.49      0.55      1001\n",
      "           8       0.67      0.53      0.59      1025\n",
      "           9       0.44      0.66      0.53       981\n",
      "\n",
      "    accuracy                           0.49     10000\n",
      "   macro avg       0.46      0.50      0.46     10000\n",
      "weighted avg       0.46      0.49      0.46     10000\n",
      "\n",
      "Model 2 evaluation time: 302.4024817943573 seconds\n"
     ]
    },
    {
     "name": "stderr",
     "output_type": "stream",
     "text": [
      "/opt/anaconda3/lib/python3.8/site-packages/sklearn/metrics/_classification.py:1221: UndefinedMetricWarning: Precision and F-score are ill-defined and being set to 0.0 in labels with no predicted samples. Use `zero_division` parameter to control this behavior.\n",
      "  _warn_prf(average, modifier, msg_start, len(result))\n"
     ]
    }
   ],
   "source": [
    "start_time = time.time()\n",
    "evaluation(model_II, test_labels, test_imgs)\n",
    "end_time = time.time()\n",
    "\n",
    "model_2_evaluation_time = end_time - start_time\n",
    "print(\"Model 2 evaluation time: {} seconds\".format(model_2_evaluation_time))"
   ]
  },
  {
   "cell_type": "markdown",
   "id": "3e1f3533",
   "metadata": {},
   "source": [
    "Model | Test Accruacy | Training time (sec) | Evaluation time (sec) \n",
    ":-------------------|:---------------:|--------------------:|--------------------:\n",
    "Baseline model      | 0.24  | 12.34 | 3.44\n",
    "Model 1      | 0.49  | 236.65 | 309.53\n",
    "Model 2      | 0.49  | 222.85 | 302.40"
   ]
  }
 ],
 "metadata": {
  "kernelspec": {
   "display_name": "Python 3",
   "language": "python",
   "name": "python3"
  },
  "language_info": {
   "codemirror_mode": {
    "name": "ipython",
    "version": 3
   },
   "file_extension": ".py",
   "mimetype": "text/x-python",
   "name": "python",
   "nbconvert_exporter": "python",
   "pygments_lexer": "ipython3",
   "version": "3.8.3"
  }
 },
 "nbformat": 4,
 "nbformat_minor": 5
}
