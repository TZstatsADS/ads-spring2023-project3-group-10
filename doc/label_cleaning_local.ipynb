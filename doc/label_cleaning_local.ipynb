{
 "cells": [
  {
   "cell_type": "code",
   "execution_count": 5,
   "metadata": {
    "id": "Ud0xje3E6_CL"
   },
   "outputs": [],
   "source": [
    "# this code ran in a python 3.7 virtual environment.\n",
    "import os\n",
    "import pandas as pd\n",
    "import numpy as np\n",
    "\n",
    "import torch\n",
    "import torch.nn as nn\n",
    "import torch.optim as optim\n",
    "\n",
    "import cv2\n",
    "# import matplotlib.pyplot as plt\n",
    "DEVICE = ('cuda' if torch.cuda.is_available() else 'cpu')"
   ]
  },
  {
   "cell_type": "code",
   "execution_count": 3,
   "metadata": {},
   "outputs": [
    {
     "name": "stdout",
     "output_type": "stream",
     "text": [
      "Collecting opencv-python\n",
      "  Downloading opencv_python-4.7.0.72-cp37-abi3-win_amd64.whl (38.2 MB)\n",
      "     ---------------------------------------- 38.2/38.2 MB 9.6 MB/s eta 0:00:00\n",
      "Requirement already satisfied: numpy>=1.17.0 in c:\\users\\brendan\\anaconda3\\envs\\colab_env\\lib\\site-packages (from opencv-python) (1.21.5)\n",
      "Installing collected packages: opencv-python\n",
      "Successfully installed opencv-python-4.7.0.72\n"
     ]
    }
   ],
   "source": [
    "!pip install opencv-python"
   ]
  },
  {
   "cell_type": "code",
   "execution_count": 6,
   "metadata": {
    "id": "_X0efTWGBJed"
   },
   "outputs": [],
   "source": [
    "# Loading the labels\n",
    "noisy = pd.read_csv('noisy_labels.csv',header=None)\n",
    "clean = pd.read_csv('clean_labels.csv',header=None)"
   ]
  },
  {
   "cell_type": "code",
   "execution_count": 9,
   "metadata": {
    "colab": {
     "base_uri": "https://localhost:8080/"
    },
    "collapsed": true,
    "id": "yT82e3Uq-QI0",
    "jupyter": {
     "outputs_hidden": true
    },
    "outputId": "5d7e6477-b3b1-4803-f13f-facf0d466df4",
    "tags": []
   },
   "outputs": [
    {
     "name": "stdout",
     "output_type": "stream",
     "text": [
      "11000\n",
      "12000\n",
      "13000\n",
      "14000\n",
      "15000\n",
      "16000\n",
      "17000\n",
      "18000\n",
      "19000\n",
      "20000\n",
      "21000\n",
      "22000\n",
      "23000\n",
      "24000\n",
      "25000\n",
      "26000\n",
      "27000\n",
      "28000\n",
      "29000\n",
      "30000\n",
      "31000\n",
      "32000\n",
      "33000\n",
      "34000\n",
      "35000\n",
      "36000\n",
      "37000\n",
      "38000\n",
      "39000\n",
      "40000\n",
      "41000\n",
      "42000\n",
      "43000\n",
      "44000\n",
      "45000\n",
      "46000\n",
      "47000\n",
      "48000\n",
      "49000\n",
      "50000\n"
     ]
    }
   ],
   "source": [
    "# loading the noisy images\n",
    "noisy_images = []\n",
    "for i in range(10001,50001):\n",
    "    noisy_images.append(cv2.imread('images/{:05d}.png'.format(i)))\n",
    "    if i % 1000 == 0:\n",
    "        print(i, sep=\" \")\n",
    "noisy_images = torch.Tensor(np.stack(noisy_images))"
   ]
  },
  {
   "cell_type": "code",
   "execution_count": 40,
   "metadata": {},
   "outputs": [],
   "source": [
    "# dataloader for noisy images\n",
    "sz = 50\n",
    "images_trial = torch.utils.data.DataLoader(noisy_images, batch_size=sz)\n",
    "noisylabel_trial = torch.utils.data.DataLoader(nn.functional.one_hot(torch.Tensor(noisy[0].iloc[10000:].values).long()), batch_size=sz)"
   ]
  },
  {
   "cell_type": "code",
   "execution_count": 39,
   "metadata": {
    "colab": {
     "base_uri": "https://localhost:8080/",
     "height": 1000
    },
    "collapsed": true,
    "id": "vUOD7vT9BXcS",
    "jupyter": {
     "outputs_hidden": true
    },
    "outputId": "48046ce9-b762-4884-df61-7da25fcc3821",
    "tags": []
   },
   "outputs": [
    {
     "name": "stdout",
     "output_type": "stream",
     "text": [
      "1000\n",
      "2000\n",
      "3000\n",
      "4000\n",
      "5000\n",
      "6000\n",
      "7000\n",
      "8000\n",
      "9000\n",
      "10000\n"
     ]
    }
   ],
   "source": [
    "# loading the training data\n",
    "images = []\n",
    "for i in range(1,10001):\n",
    "    images.append(cv2.imread('images/{:05d}.png'.format(i)))\n",
    "    if i % 1000 == 0:\n",
    "        print(i, sep=\" \")\n",
    "images = torch.Tensor(np.stack(images))"
   ]
  },
  {
   "cell_type": "code",
   "execution_count": 41,
   "metadata": {
    "id": "oXdDVALVSZ27"
   },
   "outputs": [],
   "source": [
    "# dataloader for training, validation, and test data\n",
    "sz = 50\n",
    "images_trainloader = torch.utils.data.DataLoader(images[:6000], batch_size=sz)\n",
    "noisylabel_trainloader = torch.utils.data.DataLoader(nn.functional.one_hot(torch.Tensor(noisy[0].iloc[:6000].values).long()), batch_size=sz)\n",
    "label_trainloader = torch.utils.data.DataLoader(nn.functional.one_hot(torch.Tensor(clean[0].iloc[:6000].values).long()), batch_size=sz)\n",
    "\n",
    "images_valoader = torch.utils.data.DataLoader(images[6000:8000], batch_size=sz)\n",
    "noisylabel_valoader = torch.utils.data.DataLoader(nn.functional.one_hot(torch.Tensor(noisy[0].iloc[6000:8000].values).long()), batch_size=sz)\n",
    "label_valoader = torch.utils.data.DataLoader(nn.functional.one_hot(torch.Tensor(clean[0].iloc[6000:8000].values).long()), batch_size=sz)\n",
    "\n",
    "images_testloader = torch.utils.data.DataLoader(images[8000:10000], batch_size=sz)\n",
    "noisylabel_testloader = torch.utils.data.DataLoader(nn.functional.one_hot(torch.Tensor(noisy[0].iloc[8000:10000].values).long()), batch_size=sz)\n",
    "label_testloader = torch.utils.data.DataLoader(nn.functional.one_hot(torch.Tensor(clean[0].iloc[8000:10000].values).long()), batch_size=sz)\n",
    "\n"
   ]
  },
  {
   "cell_type": "code",
   "execution_count": 31,
   "metadata": {},
   "outputs": [],
   "source": [
    "# for evaluating the model on test data\n",
    "def evaluator_cuda(model,images_testloader, noisylabel_testloader, label_testloader):\n",
    "  correct = 0\n",
    "  total = 0\n",
    "  for t, (t_d, t_nl, t_l) in enumerate(zip(images_testloader, noisylabel_testloader, label_testloader), 1):\n",
    "    test_outputs = model(t_d.to(DEVICE), t_nl.to(DEVICE))\n",
    "    correct += sum(torch.argmax(test_outputs, dim=1) == torch.argmax(t_l.to(DEVICE), dim=1))\n",
    "    total += len(t_l)\n",
    "  accuracy = correct / total\n",
    "  print('Accuracy on the test set: %f' % (correct / total))\n",
    "  return accuracy"
   ]
  },
  {
   "cell_type": "code",
   "execution_count": 42,
   "metadata": {},
   "outputs": [
    {
     "name": "stdout",
     "output_type": "stream",
     "text": [
      "Epoch [1/75], Training Loss: 2.1314\n",
      "Epoch [1/75], Validation Loss: 2.0636, Validation Accuracy: 46.90%\n",
      "Epoch [2/75], Training Loss: 1.9924\n",
      "Epoch [2/75], Validation Loss: 1.9748, Validation Accuracy: 49.10%\n",
      "Epoch [3/75], Training Loss: 1.9185\n",
      "Epoch [3/75], Validation Loss: 1.9519, Validation Accuracy: 51.15%\n",
      "Epoch [4/75], Training Loss: 1.8745\n",
      "Epoch [4/75], Validation Loss: 1.9211, Validation Accuracy: 54.45%\n",
      "Epoch [5/75], Training Loss: 1.8300\n",
      "Epoch [5/75], Validation Loss: 1.9109, Validation Accuracy: 54.90%\n",
      "Epoch [6/75], Training Loss: 1.8018\n",
      "Epoch [6/75], Validation Loss: 1.9095, Validation Accuracy: 55.55%\n",
      "Epoch [7/75], Training Loss: 1.7652\n",
      "Epoch [7/75], Validation Loss: 1.8762, Validation Accuracy: 58.75%\n",
      "Epoch [8/75], Training Loss: 1.7514\n",
      "Epoch [8/75], Validation Loss: 1.9032, Validation Accuracy: 55.90%\n",
      "Epoch [9/75], Training Loss: 1.7298\n",
      "Epoch [9/75], Validation Loss: 1.8958, Validation Accuracy: 56.55%\n",
      "Epoch [10/75], Training Loss: 1.7064\n",
      "Epoch [10/75], Validation Loss: 1.8892, Validation Accuracy: 57.25%\n",
      "Epoch [11/75], Training Loss: 1.6801\n",
      "Epoch [11/75], Validation Loss: 1.8691, Validation Accuracy: 59.00%\n",
      "Epoch [12/75], Training Loss: 1.6714\n",
      "Epoch [12/75], Validation Loss: 1.8613, Validation Accuracy: 60.55%\n",
      "Epoch [13/75], Training Loss: 1.6501\n",
      "Epoch [13/75], Validation Loss: 1.8707, Validation Accuracy: 58.75%\n",
      "Epoch [14/75], Training Loss: 1.6382\n",
      "Epoch [14/75], Validation Loss: 1.8820, Validation Accuracy: 57.50%\n",
      "Epoch [15/75], Training Loss: 1.6344\n",
      "Epoch [15/75], Validation Loss: 1.8797, Validation Accuracy: 57.70%\n",
      "Epoch [16/75], Training Loss: 1.6249\n",
      "Epoch [16/75], Validation Loss: 1.8850, Validation Accuracy: 57.80%\n",
      "Stopping training after 4 epochs without improvement\n",
      "Accuracy on the test set: 0.581500\n"
     ]
    }
   ],
   "source": [
    "nclass = 10\n",
    "\n",
    "# defining the CNN to be used\n",
    "class MyCNN7(nn.Module):\n",
    "    def __init__(self,num_class):\n",
    "        super(MyCNN7, self).__init__()\n",
    "        # Define first convolution layer\n",
    "        self.conv1 = nn.Conv2d(3, 64, 3, padding=1) # 3 input channels, 64 output channels, and a 3x3 kernel with padding of 1\n",
    "        self.bn1 = nn.BatchNorm2d(64) # Batch normalization for the output of the first convolution layer\n",
    "        self.relu1 = nn.ReLU() # Activation function to introduce non-linearity\n",
    "        self.pool1 = nn.MaxPool2d(2, 2) # Max pooling layer to reduce the spatial dimensions of the output\n",
    "        \n",
    "        # Define second convolution layer\n",
    "        self.conv2 = nn.Conv2d(64, 64, 3, padding=1) # 64 input channels, 64 output channels, and a 3x3 kernel with padding of 1\n",
    "        self.bn2 = nn.BatchNorm2d(64) # Batch normalization for the output of the second convolution layer\n",
    "        self.relu2 = nn.ReLU() # Activation function to introduce non-linearity\n",
    "        self.pool2 = nn.MaxPool2d(2, 2) # Max pooling layer to reduce the spatial dimensions of the output\n",
    "        \n",
    "        # Define fully connected layer\n",
    "        self.fc1 = nn.Linear(64 * 8 * 8 + num_class, 256)\n",
    "        self.bn3 = nn.BatchNorm1d(256) # Batch normalization for the output of the fully connected layer\n",
    "        self.relu3 = nn.ReLU() # Activation function to introduce non-linearity\n",
    "        \n",
    "        # Define additional fully connected layer\n",
    "        self.fcx = nn.Linear(256,128)\n",
    "        self.bnx = nn.BatchNorm1d(128) # Batch normalization for the output of the additional fully connected layer\n",
    "        self.relux = nn.ReLU() # Activation function to introduce non-linearity\n",
    "\n",
    "        # Define final fully connected layer with softmax activation\n",
    "        self.fc2 = nn.Linear(128, num_class)\n",
    "        self.sm1 = nn.Softmax(1) # Apply softmax activation to the output to obtain a probability distribution over classes\n",
    "        self.num_class = num_class\n",
    "\n",
    "    def forward(self, x,y):\n",
    "        # reformatting the inputs to fit the network\n",
    "        y = torch.Tensor(y)\n",
    "        x = x.permute(0,3,1,2)\n",
    "        # implementing the layers\n",
    "        x = self.conv1(x)\n",
    "        x = self.bn1(x)\n",
    "        x = self.relu1(x)\n",
    "        x = self.pool1(x)\n",
    "        x = self.conv2(x)\n",
    "        x = self.bn2(x)\n",
    "        x = self.relu2(x)\n",
    "        x = self.pool2(x)\n",
    "        x = x.reshape(x.shape[0],64*8*8)\n",
    "        x = torch.cat((x, y), dim=1)\n",
    "        x = x.reshape(-1, 64 * 8 * 8 + self.num_class)\n",
    "        x = self.fc1(x.float())\n",
    "        x = self.bn3(x)        \n",
    "        x = self.fcx(x)\n",
    "        x = self.bnx(x)\n",
    "        x = self.relux(x)\n",
    "        x = self.relu3(x)\n",
    "        x = self.fc2(x)\n",
    "        x = self.sm1(x)\n",
    "        return x\n",
    "\n",
    "model = MyCNN7(nclass)\n",
    "model = model.to(DEVICE)\n",
    "\n",
    "# using adam as optimizer\n",
    "# optimizer = optim.SGD(model.parameters(), lr=0.005, momentum=0.9)\n",
    "# optimizer = optim.SGD(model.parameters(), lr=0.005, momentum=0.7)\n",
    "optimizer = optim.Adam(model.parameters(),lr = 0.00025)\n",
    "\n",
    "\n",
    "\n",
    "# using cross entropy loss\n",
    "criterion = nn.CrossEntropyLoss()\n",
    "def custom_loss(pred, true, missclassified):\n",
    "    loss_1 = criterion(pred, true)\n",
    "    return loss_1\n",
    "num_epochs = 75\n",
    "\n",
    "# will tolerate three epochs without validation loss improvement\n",
    "# training will stop early after a fourth\n",
    "patience = 3\n",
    "best_val_loss = float('inf')\n",
    "epochs_since_improvement = 0\n",
    "\n",
    "for epoch in range(num_epochs):\n",
    "    running_loss = 0.0\n",
    "    for i, (d, nl, l) in enumerate(zip(images_trainloader, noisylabel_trainloader, label_trainloader), 1):\n",
    "        d = d.to(DEVICE)\n",
    "        nl = nl.to(DEVICE)\n",
    "        l = l.to(DEVICE)\n",
    "        optimizer.zero_grad()\n",
    "        outputs = model(d, nl)\n",
    "        # add .float() when using crossentropyloss\n",
    "        #loss = criterion(outputs, l.float())\n",
    "        loss = custom_loss(outputs, l.float(), nl.float())\n",
    "        # backprop\n",
    "        loss.backward()\n",
    "        optimizer.step()\n",
    "        running_loss += loss.item()\n",
    "    print('Epoch [{}/{}], Training Loss: {:.4f}'.format(epoch+1, num_epochs, running_loss/len(images_trainloader)))\n",
    "    \n",
    "    with torch.no_grad():\n",
    "        model.eval()\n",
    "        val_loss = 0.0\n",
    "        correct = 0\n",
    "        total = 0\n",
    "        for j, (val_d, val_nl, val_l) in enumerate(zip(images_valoader, noisylabel_valoader, label_valoader), 1):\n",
    "            val_d = val_d.to(DEVICE)\n",
    "            val_nl = val_nl.to(DEVICE)\n",
    "            val_l = val_l.to(DEVICE)\n",
    "            val_outputs = model(val_d, val_nl)\n",
    "            # calculate validation loss to monitor model performance\n",
    "            val_loss += custom_loss(val_outputs, val_l.float(), val_nl.float())\n",
    "            # val_loss += criterion(val_outputs, val_l.float()).item()\n",
    "            _, predicted = torch.max(val_outputs.data, 1)\n",
    "            _, gt = torch.max(val_l.data, 1)\n",
    "            total += val_l.size(0)\n",
    "            correct += (predicted == gt).sum().item()\n",
    "        val_loss /= len(images_valoader)\n",
    "        val_acc = 100 * correct / total\n",
    "        print('Epoch [{}/{}], Validation Loss: {:.4f}, Validation Accuracy: {:.2f}%'.format(epoch+1, num_epochs, val_loss, val_acc))\n",
    "    # saving the model with the lowest validation loss\n",
    "    if val_loss < best_val_loss:\n",
    "        best_val_loss = val_loss\n",
    "        torch.save(model.state_dict(), 'best_model.pt')\n",
    "        epochs_since_improvement = 0\n",
    "    else:\n",
    "        epochs_since_improvement += 1\n",
    "    # early stopping if validation loss is not improving\n",
    "    if epochs_since_improvement > patience:\n",
    "        print('Stopping training after {} epochs without improvement'.format(epochs_since_improvement))\n",
    "        break\n",
    "\n",
    "# evaluation on test data\n",
    "testacc_2 = evaluator_cuda(model,images_testloader, noisylabel_testloader, label_testloader)"
   ]
  },
  {
   "cell_type": "code",
   "execution_count": 44,
   "metadata": {},
   "outputs": [
    {
     "data": {
      "text/plain": [
       "<All keys matched successfully>"
      ]
     },
     "execution_count": 44,
     "metadata": {},
     "output_type": "execute_result"
    }
   ],
   "source": [
    "# load back the version of the model with minimal validation loss\n",
    "checkpoint = torch.load(\"best_model.pt\")\n",
    "model.load_state_dict(checkpoint)"
   ]
  },
  {
   "cell_type": "code",
   "execution_count": 45,
   "metadata": {},
   "outputs": [
    {
     "name": "stdout",
     "output_type": "stream",
     "text": [
      "Accuracy on the test set: 0.604500\n"
     ]
    },
    {
     "data": {
      "text/plain": [
       "tensor(0.6045)"
      ]
     },
     "execution_count": 45,
     "metadata": {},
     "output_type": "execute_result"
    }
   ],
   "source": [
    "# evaluate on test data\n",
    "evaluator_cuda(model,images_testloader, noisylabel_testloader, label_testloader)\n",
    "# result: 60.45% accurately classified images"
   ]
  },
  {
   "cell_type": "code",
   "execution_count": 63,
   "metadata": {
    "collapsed": true,
    "jupyter": {
     "outputs_hidden": true
    },
    "tags": []
   },
   "outputs": [
    {
     "name": "stdout",
     "output_type": "stream",
     "text": [
      "80\n",
      "160\n",
      "240\n",
      "320\n",
      "400\n",
      "480\n",
      "560\n",
      "640\n",
      "720\n",
      "800\n"
     ]
    }
   ],
   "source": [
    "# applying the model on the other 40000 noisy images\n",
    "preds = []\n",
    "for t, (t_d, t_nl) in enumerate(zip(images_trial, noisylabel_trial), 1):\n",
    "    preds.append(torch.argmax(model(t_d.to(DEVICE), t_nl.to(DEVICE)), dim=1))\n",
    "    if t%80 == 0:\n",
    "        print(t)\n",
    "preds = torch.cat(preds)"
   ]
  },
  {
   "cell_type": "code",
   "execution_count": 70,
   "metadata": {},
   "outputs": [],
   "source": [
    "# an updated set of labels for training on image classification\n",
    "pd.concat([clean,pd.DataFrame(preds)]).to_csv(\"edited_labels.csv\",index=False)"
   ]
  }
 ],
 "metadata": {
  "accelerator": "GPU",
  "colab": {
   "provenance": []
  },
  "gpuClass": "standard",
  "kernelspec": {
   "display_name": "Python 3 (ipykernel)",
   "language": "python",
   "name": "python3"
  },
  "language_info": {
   "codemirror_mode": {
    "name": "ipython",
    "version": 3
   },
   "file_extension": ".py",
   "mimetype": "text/x-python",
   "name": "python",
   "nbconvert_exporter": "python",
   "pygments_lexer": "ipython3",
   "version": "3.7.16"
  }
 },
 "nbformat": 4,
 "nbformat_minor": 4
}
