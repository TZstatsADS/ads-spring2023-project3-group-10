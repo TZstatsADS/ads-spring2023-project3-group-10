{
  "nbformat": 4,
  "nbformat_minor": 0,
  "metadata": {
    "colab": {
      "provenance": []
    },
    "kernelspec": {
      "name": "python3",
      "display_name": "Python 3"
    },
    "language_info": {
      "name": "python"
    }
  },
  "cells": [
    {
      "cell_type": "code",
      "source": [
        "# import zipfile\n",
        "\n",
        "# with zipfile.ZipFile('/content/drive/MyDrive/train_dat/train_data.zip', 'r') as zip_ref:\n",
        "#     zip_ref.extractall('/content/drive/MyDrive/train_dat')"
      ],
      "metadata": {
        "id": "hG0zf8Ce7CeQ"
      },
      "execution_count": null,
      "outputs": []
    },
    {
      "cell_type": "code",
      "execution_count": null,
      "metadata": {
        "id": "Ud0xje3E6_CL"
      },
      "outputs": [],
      "source": [
        "import os\n",
        "import pandas as pd\n",
        "import numpy as np\n",
        "\n",
        "import torch\n",
        "import torch.nn as nn\n",
        "import torch.optim as optim\n",
        "\n",
        "import cv2\n",
        "import matplotlib.pyplot as plt"
      ]
    },
    {
      "cell_type": "code",
      "source": [
        "# Example image plot\n",
        "img1 = cv2.imread('/content/drive/MyDrive/train_dat/images/{:05d}.png'.format(1))\n",
        "plt.imshow(img1)\n",
        "plt.xticks([]) ## remove the ticks on x-axis\n",
        "plt.yticks([]) ## remove the ticks on y-axis\n",
        "plt.show()"
      ],
      "metadata": {
        "colab": {
          "base_uri": "https://localhost:8080/",
          "height": 252
        },
        "id": "FwXpFR75oC_g",
        "outputId": "509283c8-f775-4635-ecf4-68a2af812935"
      },
      "execution_count": null,
      "outputs": [
        {
          "output_type": "display_data",
          "data": {
            "text/plain": [
              "<Figure size 432x288 with 1 Axes>"
            ],
            "image/png": "[encoded data removed]"
          },
          "metadata": {}
        }
      ]
    },
    {
      "cell_type": "code",
      "source": [
        "\n",
        "noisy = pd.read_csv('/content/drive/MyDrive/train_dat/noisy_labels.csv',header=None)\n",
        "clean = pd.read_csv('/content/drive/MyDrive/train_dat/clean_labels.csv',header=None)\n"
      ],
      "metadata": {
        "id": "_X0efTWGBJed"
      },
      "execution_count": null,
      "outputs": []
    },
    {
      "cell_type": "code",
      "source": [
        "images = []\n",
        "for i in range(1,10001):\n",
        "  images.append(cv2.imread('/content/drive/MyDrive/train_dat/images/{:05d}.png'.format(i)))\n",
        "  if i % 1000 == 0:\n",
        "    print(i)\n",
        "images = torch.Tensor(np.stack(images))"
      ],
      "metadata": {
        "id": "vUOD7vT9BXcS"
      },
      "execution_count": null,
      "outputs": []
    },
    {
      "cell_type": "code",
      "source": [
        "sz = 50\n",
        "images_trainloader = torch.utils.data.DataLoader(images[:6000], batch_size=sz)\n",
        "noisylabel_trainloader = torch.utils.data.DataLoader(nn.functional.one_hot(torch.Tensor(noisy[0].iloc[:6000].values).long()), batch_size=sz)\n",
        "label_trainloader = torch.utils.data.DataLoader(nn.functional.one_hot(torch.Tensor(clean[0].iloc[:6000].values).long()), batch_size=sz)\n",
        "\n",
        "images_valoader = torch.utils.data.DataLoader(images[6000:8000], batch_size=sz)\n",
        "noisylabel_valoader = torch.utils.data.DataLoader(nn.functional.one_hot(torch.Tensor(noisy[0].iloc[6000:8000].values).long()), batch_size=sz)\n",
        "label_valoader = torch.utils.data.DataLoader(nn.functional.one_hot(torch.Tensor(clean[0].iloc[6000:8000].values).long()), batch_size=sz)\n",
        "\n",
        "images_testloader = torch.utils.data.DataLoader(images[8000:10000], batch_size=sz)\n",
        "noisylabel_testloader = torch.utils.data.DataLoader(nn.functional.one_hot(torch.Tensor(noisy[0].iloc[8000:10].values).long()), batch_size=sz)\n",
        "label_testloader = torch.utils.data.DataLoader(nn.functional.one_hot(torch.Tensor(clean[0].iloc[6000:8000].values).long()), batch_size=sz)\n",
        "\n"
      ],
      "metadata": {
        "colab": {
          "base_uri": "https://localhost:8080/"
        },
        "id": "oXdDVALVSZ27",
        "outputId": "759aef26-f8e7-4a95-e87b-9b03f61dcd63"
      },
      "execution_count": null,
      "outputs": [
        {
          "output_type": "execute_result",
          "data": {
            "text/plain": [
              "torch.Size([6000, 32, 32, 3])"
            ]
          },
          "metadata": {},
          "execution_count": 20
        }
      ]
    },
    {
      "cell_type": "code",
      "source": [
        "class MyCNN(nn.Module):\n",
        "    def __init__(self,num_class):\n",
        "        super(MyCNN, self).__init__()\n",
        "        self.conv1 = nn.Conv2d(3, 16, 3, padding=1)\n",
        "        self.bn1 = nn.BatchNorm2d(16)\n",
        "        self.relu1 = nn.ReLU()\n",
        "        self.pool1 = nn.MaxPool2d(2, 2)\n",
        "        self.conv2 = nn.Conv2d(16, 32, 3, padding=1)\n",
        "        self.bn2 = nn.BatchNorm2d(32)\n",
        "        self.relu2 = nn.ReLU()\n",
        "        self.pool2 = nn.MaxPool2d(2, 2)\n",
        "        self.fc1 = nn.Linear(32 * 8 * 8 + num_class, 64)\n",
        "        self.bn3 = nn.BatchNorm1d(64)\n",
        "        self.relu3 = nn.ReLU()\n",
        "        self.fc2 = nn.Linear(64, num_class)\n",
        "        self.sm1 = nn.Softmax(1)\n",
        "        self.num_class = num_class\n",
        "\n",
        "    def forward(self, x,y):\n",
        "        y = torch.Tensor(y)\n",
        "        \n",
        "        x = x.permute(0,3,1,2)\n",
        "        \n",
        "        x = self.conv1(x)\n",
        "        \n",
        "        x = self.bn1(x)\n",
        "        \n",
        "        x = self.relu1(x)\n",
        "        x = self.pool1(x)\n",
        "        \n",
        "        x = self.conv2(x)\n",
        "        \n",
        "        x = self.bn2(x)\n",
        "        x = self.relu2(x)\n",
        "        x = self.pool2(x)\n",
        "        \n",
        "        x = x.reshape(x.shape[0],32*8*8)\n",
        "        # print(x.shape,torch.Tensor(y).shape)\n",
        "        x = torch.cat((x, y), dim=1)\n",
        "        \n",
        "        x = x.reshape(-1, 32 * 8 * 8 + self.num_class)\n",
        "        x = self.fc1(x.float())\n",
        "        \n",
        "        x = self.bn3(x)\n",
        "        \n",
        "        x = self.relu3(x)\n",
        "        x = self.fc2(x)\n",
        "        x = self.sm1(x)\n",
        "        return x\n",
        "\n",
        "\n",
        "\n",
        "model = MyCNN(nclass)\n",
        "optimizer = optim.SGD(model.parameters(), lr=0.001, momentum=0.9)\n",
        "criterion = nn.L1Loss()\n",
        "\n",
        "# number of epochs to run\n",
        "# num_epochs = 5\n",
        "# for epoch in range(num_epochs):\n",
        "#     running_loss = 0.0\n",
        "#     for i, (d, nl, l) in enumerate(zip(trainloader,noisylabel_loader,label_loader),1):\n",
        "#         # print(\"LABELS\")\n",
        "#         # print(l)\n",
        "#         # inputs, labels = data\n",
        "#         # print(d.shape,nl.shape)\n",
        "#         optimizer.zero_grad()\n",
        "#         outputs = model(d,nl)\n",
        "#         loss = criterion(outputs, l) #.unsqueeze(0)\n",
        "\n",
        "#         # print(outputs,\"labels\",l)\n",
        "#         loss.backward()\n",
        "#         optimizer.step()\n",
        "#         running_loss += loss.item()\n",
        "#         print(running_loss)\n",
        "#     print('Epoch [{}/{}], Loss: {:.4f}'.format(epoch+1, num_epochs, running_loss/len(trainloader)))\n"
      ],
      "metadata": {
        "id": "piMLiNuAK-Gd"
      },
      "execution_count": 28,
      "outputs": []
    },
    {
      "cell_type": "code",
      "source": [
        "num_epochs = 50\n",
        "patience = 3\n",
        "best_val_loss = float('inf')\n",
        "epochs_since_improvement = 0\n",
        "\n",
        "for epoch in range(num_epochs):\n",
        "    running_loss = 0.0\n",
        "    for i, (d, nl, l) in enumerate(zip(images_trainloader, noisylabel_trainloader, label_trainloader), 1):\n",
        "        optimizer.zero_grad()\n",
        "        outputs = model(d, nl)\n",
        "        loss = criterion(outputs, l)\n",
        "        loss.backward()\n",
        "        optimizer.step()\n",
        "        running_loss += loss.item()\n",
        "    print('Epoch [{}/{}], Training Loss: {:.4f}'.format(epoch+1, num_epochs, running_loss/len(trainloader)))\n",
        "    \n",
        "    with torch.no_grad():\n",
        "        model.eval()\n",
        "        val_loss = 0.0\n",
        "        correct = 0\n",
        "        total = 0\n",
        "        for j, (val_d, val_nl, val_l) in enumerate(zip(images_valoader, noisylabel_valoader, label_valoader), 1):\n",
        "            val_outputs = model(val_d, val_nl)\n",
        "            val_loss += criterion(val_outputs, val_l).item()\n",
        "            _, predicted = torch.max(val_outputs.data, 1)\n",
        "            _, gt = torch.max(val_l.data, 1)\n",
        "            total += val_l.size(0)\n",
        "            correct += (predicted == gt).sum().item()\n",
        "        val_loss /= len(images_valoader)\n",
        "        val_acc = 100 * correct / total\n",
        "        print('Epoch [{}/{}], Validation Loss: {:.4f}, Validation Accuracy: {:.2f}%'.format(epoch+1, num_epochs, val_loss, val_acc))\n",
        "    \n",
        "    if val_loss < best_val_loss:\n",
        "        best_val_loss = val_loss\n",
        "        torch.save(model.state_dict(), 'best_model.pt')\n",
        "        epochs_since_improvement = 0\n",
        "    else:\n",
        "        epochs_since_improvement += 1\n",
        "        \n",
        "    if epochs_since_improvement > patience:\n",
        "        print('Stopping training after {} epochs without improvement'.format(epochs_since_improvement))\n",
        "        break\n"
      ],
      "metadata": {
        "colab": {
          "base_uri": "https://localhost:8080/"
        },
        "id": "7nillOQagU8z",
        "outputId": "4a6340c8-8861-4229-c91e-1881f352c38d"
      },
      "execution_count": 84,
      "outputs": [
        {
          "output_type": "stream",
          "name": "stdout",
          "text": [
            "Epoch [1/50], Training Loss: 0.0048\n",
            "Epoch [1/50], Validation Loss: 0.1183, Validation Accuracy: 41.95%\n",
            "Epoch [2/50], Training Loss: 0.0048\n",
            "Epoch [2/50], Validation Loss: 0.1181, Validation Accuracy: 41.75%\n",
            "Epoch [3/50], Training Loss: 0.0047\n",
            "Epoch [3/50], Validation Loss: 0.1179, Validation Accuracy: 42.00%\n",
            "Epoch [4/50], Training Loss: 0.0047\n",
            "Epoch [4/50], Validation Loss: 0.1177, Validation Accuracy: 42.10%\n",
            "Epoch [5/50], Training Loss: 0.0047\n",
            "Epoch [5/50], Validation Loss: 0.1174, Validation Accuracy: 42.20%\n",
            "Epoch [6/50], Training Loss: 0.0046\n",
            "Epoch [6/50], Validation Loss: 0.1172, Validation Accuracy: 42.40%\n",
            "Epoch [7/50], Training Loss: 0.0046\n",
            "Epoch [7/50], Validation Loss: 0.1171, Validation Accuracy: 42.10%\n",
            "Epoch [8/50], Training Loss: 0.0046\n",
            "Epoch [8/50], Validation Loss: 0.1168, Validation Accuracy: 42.40%\n",
            "Epoch [9/50], Training Loss: 0.0046\n",
            "Epoch [9/50], Validation Loss: 0.1166, Validation Accuracy: 42.35%\n",
            "Epoch [10/50], Training Loss: 0.0045\n",
            "Epoch [10/50], Validation Loss: 0.1163, Validation Accuracy: 42.75%\n",
            "Epoch [11/50], Training Loss: 0.0045\n",
            "Epoch [11/50], Validation Loss: 0.1159, Validation Accuracy: 43.15%\n",
            "Epoch [12/50], Training Loss: 0.0045\n",
            "Epoch [12/50], Validation Loss: 0.1155, Validation Accuracy: 43.65%\n",
            "Epoch [13/50], Training Loss: 0.0044\n",
            "Epoch [13/50], Validation Loss: 0.1154, Validation Accuracy: 43.35%\n",
            "Epoch [14/50], Training Loss: 0.0044\n",
            "Epoch [14/50], Validation Loss: 0.1152, Validation Accuracy: 43.40%\n",
            "Epoch [15/50], Training Loss: 0.0044\n",
            "Epoch [15/50], Validation Loss: 0.1149, Validation Accuracy: 43.20%\n",
            "Epoch [16/50], Training Loss: 0.0043\n",
            "Epoch [16/50], Validation Loss: 0.1148, Validation Accuracy: 42.80%\n",
            "Epoch [17/50], Training Loss: 0.0043\n",
            "Epoch [17/50], Validation Loss: 0.1145, Validation Accuracy: 43.20%\n",
            "Epoch [18/50], Training Loss: 0.0043\n",
            "Epoch [18/50], Validation Loss: 0.1146, Validation Accuracy: 42.95%\n",
            "Epoch [19/50], Training Loss: 0.0043\n",
            "Epoch [19/50], Validation Loss: 0.1146, Validation Accuracy: 43.15%\n",
            "Epoch [20/50], Training Loss: 0.0042\n",
            "Epoch [20/50], Validation Loss: 0.1148, Validation Accuracy: 42.55%\n",
            "Epoch [21/50], Training Loss: 0.0042\n",
            "Epoch [21/50], Validation Loss: 0.1152, Validation Accuracy: 42.45%\n",
            "Stopping training after 4 epochs without improvement\n"
          ]
        }
      ]
    },
    {
      "cell_type": "code",
      "source": [
        "# evaluation on test set\n",
        "correct = 0\n",
        "total = 0\n",
        "for t, (t_d, t_nl, t_l) in enumerate(zip(images_testloader, noisylabel_testloader, label_testloader), 1):\n",
        "  test_outputs = model(t_d, t_nl)\n",
        "  # preds = torch.zeros_like(test_outputs).scatter_(1, torch.argmax(test_outputs, dim=1).unsqueeze(1), 1)\n",
        "  correct += sum(torch.argmax(test_outputs, dim=1) == torch.argmax(t_l, dim=1))\n",
        "  total += len(t_l)\n",
        "accuracy = correct / total\n",
        "print('Accuracy on the test set: %f' % (correct / total))"
      ],
      "metadata": {
        "colab": {
          "base_uri": "https://localhost:8080/"
        },
        "id": "RR7B9XEmYc3Q",
        "outputId": "b7aac8e4-44c8-48d6-ca5a-e18128511df1"
      },
      "execution_count": 90,
      "outputs": [
        {
          "output_type": "stream",
          "name": "stdout",
          "text": [
            "Accuracy on the test set: 0.428500\n"
          ]
        }
      ]
    },
    {
      "cell_type": "code",
      "source": [
        "# benchmark\n",
        "np.mean(noisy[0][:10000] == clean[0])"
      ],
      "metadata": {
        "colab": {
          "base_uri": "https://localhost:8080/"
        },
        "id": "YbBisD_cio2K",
        "outputId": "380ca4b7-e353-4a7b-f6d4-9266da255884"
      },
      "execution_count": 97,
      "outputs": [
        {
          "output_type": "execute_result",
          "data": {
            "text/plain": [
              "0.3968"
            ]
          },
          "metadata": {},
          "execution_count": 97
        }
      ]
    },
    {
      "cell_type": "code",
      "source": [
        "# sample data to test the network\n",
        "\n",
        "#noisylabel_loader\n",
        "# nn.functional.one_hot(torch.Tensor(noisy[0].iloc[:10000].values).long())\n",
        "#label_loader\n",
        "# nn.functional.one_hot(torch.Tensor(clean[0].values).long())\n",
        "\n",
        "import random\n",
        "# batch size 4\n",
        "sz = 4\n",
        "trainloader = torch.utils.data.DataLoader(torch.Tensor(np.random.rand(8,32,32,3)), batch_size=sz)\n",
        "# number of classes 10\n",
        "nclass = 10\n",
        "\n",
        "ys = np.zeros(shape=(8,nclass))\n",
        "for i in range(ys.shape[0]):\n",
        "  labs = np.zeros(nclass)\n",
        "  labs[random.randint(0,nclass-1)] = 1\n",
        "  ys[i] = labs\n",
        "noisylabel_loader = torch.utils.data.DataLoader(ys, batch_size=sz)\n",
        "\n",
        "ys = np.zeros(shape=(8,nclass))\n",
        "for i in range(ys.shape[0]):\n",
        "  labs = np.zeros(nclass)\n",
        "  labs[random.randint(0,nclass-1)] = 1\n",
        "  ys[i] = labs\n",
        "label_loader = torch.utils.data.DataLoader(ys, batch_size=sz)\n",
        "\n",
        "for i, (d, nl, l) in enumerate(zip(trainloader,noisylabel_loader,label_loader),0):\n",
        "  print(i,d.shape,nl.shape,l.shape)"
      ],
      "metadata": {
        "colab": {
          "base_uri": "https://localhost:8080/"
        },
        "id": "nkFhSjE3RUEo",
        "outputId": "f49721be-3ab3-4627-c4d6-f1fa395db97d"
      },
      "execution_count": null,
      "outputs": [
        {
          "output_type": "stream",
          "name": "stdout",
          "text": [
            "0 torch.Size([4, 32, 32, 3]) torch.Size([4, 10]) torch.Size([4, 10])\n",
            "1 torch.Size([4, 32, 32, 3]) torch.Size([4, 10]) torch.Size([4, 10])\n"
          ]
        }
      ]
    }
  ]
}